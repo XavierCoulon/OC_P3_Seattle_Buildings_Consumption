{
 "cells": [
  {
   "cell_type": "markdown",
   "metadata": {},
   "source": [
    "### Import des modules "
   ]
  },
  {
   "cell_type": "code",
   "execution_count": 243,
   "metadata": {},
   "outputs": [],
   "source": [
    "import pandas as pd\n",
    "import matplotlib.pyplot as plt\n",
    "import seaborn as sns"
   ]
  },
  {
   "cell_type": "markdown",
   "metadata": {},
   "source": [
    "### Feature Engineering"
   ]
  },
  {
   "cell_type": "markdown",
   "metadata": {},
   "source": [
    "A réaliser : Enrichir le jeu de données actuel avec de nouvelles features issues de celles existantes. "
   ]
  },
  {
   "cell_type": "markdown",
   "metadata": {},
   "source": [
    "En règle générale : On utilise la méthode .apply() de Pandas pour créer une nouvelle colonne à partir d'une colonne existante. N'hésitez pas à regarder les exemples dans les chapitres de cours donnés en ressource"
   ]
  },
  {
   "cell_type": "code",
   "execution_count": 244,
   "metadata": {},
   "outputs": [
    {
     "name": "stdout",
     "output_type": "stream",
     "text": [
      "0\n",
      "<class 'pandas.core.frame.DataFrame'>\n",
      "RangeIndex: 1539 entries, 0 to 1538\n",
      "Data columns (total 43 columns):\n",
      " #   Column                           Non-Null Count  Dtype  \n",
      "---  ------                           --------------  -----  \n",
      " 0   OSEBuildingID                    1539 non-null   int64  \n",
      " 1   DataYear                         1539 non-null   int64  \n",
      " 2   BuildingType                     1539 non-null   object \n",
      " 3   PrimaryPropertyType              1539 non-null   object \n",
      " 4   PropertyName                     1539 non-null   object \n",
      " 5   Address                          1539 non-null   object \n",
      " 6   City                             1539 non-null   object \n",
      " 7   State                            1539 non-null   object \n",
      " 8   ZipCode                          1526 non-null   float64\n",
      " 9   TaxParcelIdentificationNumber    1539 non-null   object \n",
      " 10  CouncilDistrictCode              1539 non-null   int64  \n",
      " 11  Neighborhood                     1539 non-null   object \n",
      " 12  Latitude                         1539 non-null   float64\n",
      " 13  Longitude                        1539 non-null   float64\n",
      " 14  YearBuilt                        1539 non-null   int64  \n",
      " 15  NumberofBuildings                1539 non-null   float64\n",
      " 16  NumberofFloors                   1539 non-null   int64  \n",
      " 17  PropertyGFAParking               1539 non-null   int64  \n",
      " 18  PropertyGFABuilding(s)           1539 non-null   int64  \n",
      " 19  ListOfAllPropertyUseTypes        1539 non-null   object \n",
      " 20  LargestPropertyUseType           1535 non-null   object \n",
      " 21  LargestPropertyUseTypeGFA        1535 non-null   float64\n",
      " 22  SecondLargestPropertyUseType     832 non-null    object \n",
      " 23  SecondLargestPropertyUseTypeGFA  832 non-null    float64\n",
      " 24  ThirdLargestPropertyUseType      341 non-null    object \n",
      " 25  ThirdLargestPropertyUseTypeGFA   341 non-null    float64\n",
      " 26  YearsENERGYSTARCertified         98 non-null     object \n",
      " 27  ENERGYSTARScore                  992 non-null    float64\n",
      " 28  SiteEUI(kBtu/sf)                 1538 non-null   float64\n",
      " 29  SiteEUIWN(kBtu/sf)               1538 non-null   float64\n",
      " 30  SourceEUI(kBtu/sf)               1539 non-null   float64\n",
      " 31  SourceEUIWN(kBtu/sf)             1539 non-null   float64\n",
      " 32  SiteEnergyUse(kBtu)              1539 non-null   float64\n",
      " 33  SiteEnergyUseWN(kBtu)            1538 non-null   float64\n",
      " 34  SteamUse(kBtu)                   1539 non-null   float64\n",
      " 35  Electricity(kWh)                 1539 non-null   float64\n",
      " 36  Electricity(kBtu)                1539 non-null   float64\n",
      " 37  NaturalGas(therms)               1539 non-null   float64\n",
      " 38  NaturalGas(kBtu)                 1539 non-null   float64\n",
      " 39  Comments                         0 non-null      float64\n",
      " 40  Outlier                          0 non-null      float64\n",
      " 41  TotalGHGEmissions                1539 non-null   float64\n",
      " 42  GHGEmissionsIntensity            1539 non-null   float64\n",
      "dtypes: float64(23), int64(7), object(13)\n",
      "memory usage: 517.1+ KB\n"
     ]
    }
   ],
   "source": [
    "building_consumption = pd.read_csv(\"../assets/building_consumption_post_EDA.csv\")\n",
    "print(\t\n",
    "\t(\n",
    "    building_consumption[\"ListOfAllPropertyUseTypes\"].isna()\n",
    "    | (building_consumption[\"ListOfAllPropertyUseTypes\"].str.strip() == \"\")\n",
    ").sum())\n",
    "building_consumption.info()"
   ]
  },
  {
   "cell_type": "markdown",
   "metadata": {},
   "source": [
    "## 1. Nouvelle feature sur le type d'usage: NumberOfUseTypes\n",
    "\n",
    "### A partir de la liste des usages, compter le nombre d'usages différents pour chaque bâtiment\n"
   ]
  },
  {
   "cell_type": "code",
   "execution_count": 245,
   "metadata": {},
   "outputs": [
    {
     "name": "stdout",
     "output_type": "stream",
     "text": [
      "Maximum number of use types: 13\n"
     ]
    },
    {
     "data": {
      "text/html": [
       "<div>\n",
       "<style scoped>\n",
       "    .dataframe tbody tr th:only-of-type {\n",
       "        vertical-align: middle;\n",
       "    }\n",
       "\n",
       "    .dataframe tbody tr th {\n",
       "        vertical-align: top;\n",
       "    }\n",
       "\n",
       "    .dataframe thead th {\n",
       "        text-align: right;\n",
       "    }\n",
       "</style>\n",
       "<table border=\"1\" class=\"dataframe\">\n",
       "  <thead>\n",
       "    <tr style=\"text-align: right;\">\n",
       "      <th></th>\n",
       "      <th>OSEBuildingID</th>\n",
       "      <th>DataYear</th>\n",
       "      <th>BuildingType</th>\n",
       "      <th>PrimaryPropertyType</th>\n",
       "      <th>PropertyName</th>\n",
       "      <th>Address</th>\n",
       "      <th>City</th>\n",
       "      <th>State</th>\n",
       "      <th>ZipCode</th>\n",
       "      <th>TaxParcelIdentificationNumber</th>\n",
       "      <th>...</th>\n",
       "      <th>SteamUse(kBtu)</th>\n",
       "      <th>Electricity(kWh)</th>\n",
       "      <th>Electricity(kBtu)</th>\n",
       "      <th>NaturalGas(therms)</th>\n",
       "      <th>NaturalGas(kBtu)</th>\n",
       "      <th>Comments</th>\n",
       "      <th>Outlier</th>\n",
       "      <th>TotalGHGEmissions</th>\n",
       "      <th>GHGEmissionsIntensity</th>\n",
       "      <th>NumberOfUseTypes</th>\n",
       "    </tr>\n",
       "  </thead>\n",
       "  <tbody>\n",
       "    <tr>\n",
       "      <th>0</th>\n",
       "      <td>1</td>\n",
       "      <td>2016</td>\n",
       "      <td>NonResidential</td>\n",
       "      <td>Hotel</td>\n",
       "      <td>Mayflower park hotel</td>\n",
       "      <td>405 Olive way</td>\n",
       "      <td>Seattle</td>\n",
       "      <td>WA</td>\n",
       "      <td>98101.0</td>\n",
       "      <td>0659000030</td>\n",
       "      <td>...</td>\n",
       "      <td>2003882.00</td>\n",
       "      <td>1.156514e+06</td>\n",
       "      <td>3946027.0</td>\n",
       "      <td>12764.52930</td>\n",
       "      <td>1276453.0</td>\n",
       "      <td>NaN</td>\n",
       "      <td>NaN</td>\n",
       "      <td>249.98</td>\n",
       "      <td>2.83</td>\n",
       "      <td>1</td>\n",
       "    </tr>\n",
       "    <tr>\n",
       "      <th>1</th>\n",
       "      <td>2</td>\n",
       "      <td>2016</td>\n",
       "      <td>NonResidential</td>\n",
       "      <td>Hotel</td>\n",
       "      <td>Paramount Hotel</td>\n",
       "      <td>724 Pine street</td>\n",
       "      <td>Seattle</td>\n",
       "      <td>WA</td>\n",
       "      <td>98101.0</td>\n",
       "      <td>0659000220</td>\n",
       "      <td>...</td>\n",
       "      <td>0.00</td>\n",
       "      <td>9.504252e+05</td>\n",
       "      <td>3242851.0</td>\n",
       "      <td>51450.81641</td>\n",
       "      <td>5145082.0</td>\n",
       "      <td>NaN</td>\n",
       "      <td>NaN</td>\n",
       "      <td>295.86</td>\n",
       "      <td>2.86</td>\n",
       "      <td>3</td>\n",
       "    </tr>\n",
       "    <tr>\n",
       "      <th>2</th>\n",
       "      <td>3</td>\n",
       "      <td>2016</td>\n",
       "      <td>NonResidential</td>\n",
       "      <td>Hotel</td>\n",
       "      <td>5673-The Westin Seattle</td>\n",
       "      <td>1900 5th Avenue</td>\n",
       "      <td>Seattle</td>\n",
       "      <td>WA</td>\n",
       "      <td>98101.0</td>\n",
       "      <td>0659000475</td>\n",
       "      <td>...</td>\n",
       "      <td>21566554.00</td>\n",
       "      <td>1.451544e+07</td>\n",
       "      <td>49526664.0</td>\n",
       "      <td>14938.00000</td>\n",
       "      <td>1493800.0</td>\n",
       "      <td>NaN</td>\n",
       "      <td>NaN</td>\n",
       "      <td>2089.28</td>\n",
       "      <td>2.19</td>\n",
       "      <td>1</td>\n",
       "    </tr>\n",
       "    <tr>\n",
       "      <th>3</th>\n",
       "      <td>5</td>\n",
       "      <td>2016</td>\n",
       "      <td>NonResidential</td>\n",
       "      <td>Hotel</td>\n",
       "      <td>HOTEL MAX</td>\n",
       "      <td>620 STEWART ST</td>\n",
       "      <td>Seattle</td>\n",
       "      <td>WA</td>\n",
       "      <td>98101.0</td>\n",
       "      <td>0659000640</td>\n",
       "      <td>...</td>\n",
       "      <td>2214446.25</td>\n",
       "      <td>8.115253e+05</td>\n",
       "      <td>2768924.0</td>\n",
       "      <td>18112.13086</td>\n",
       "      <td>1811213.0</td>\n",
       "      <td>NaN</td>\n",
       "      <td>NaN</td>\n",
       "      <td>286.43</td>\n",
       "      <td>4.67</td>\n",
       "      <td>1</td>\n",
       "    </tr>\n",
       "    <tr>\n",
       "      <th>4</th>\n",
       "      <td>8</td>\n",
       "      <td>2016</td>\n",
       "      <td>NonResidential</td>\n",
       "      <td>Hotel</td>\n",
       "      <td>WARWICK SEATTLE HOTEL (ID8)</td>\n",
       "      <td>401 LENORA ST</td>\n",
       "      <td>Seattle</td>\n",
       "      <td>WA</td>\n",
       "      <td>98121.0</td>\n",
       "      <td>0659000970</td>\n",
       "      <td>...</td>\n",
       "      <td>0.00</td>\n",
       "      <td>1.573449e+06</td>\n",
       "      <td>5368607.0</td>\n",
       "      <td>88039.98438</td>\n",
       "      <td>8803998.0</td>\n",
       "      <td>NaN</td>\n",
       "      <td>NaN</td>\n",
       "      <td>505.01</td>\n",
       "      <td>2.88</td>\n",
       "      <td>3</td>\n",
       "    </tr>\n",
       "  </tbody>\n",
       "</table>\n",
       "<p>5 rows × 43 columns</p>\n",
       "</div>"
      ],
      "text/plain": [
       "   OSEBuildingID  DataYear    BuildingType PrimaryPropertyType  \\\n",
       "0              1      2016  NonResidential               Hotel   \n",
       "1              2      2016  NonResidential               Hotel   \n",
       "2              3      2016  NonResidential               Hotel   \n",
       "3              5      2016  NonResidential               Hotel   \n",
       "4              8      2016  NonResidential               Hotel   \n",
       "\n",
       "                  PropertyName          Address     City State  ZipCode  \\\n",
       "0         Mayflower park hotel    405 Olive way  Seattle    WA  98101.0   \n",
       "1              Paramount Hotel  724 Pine street  Seattle    WA  98101.0   \n",
       "2      5673-The Westin Seattle  1900 5th Avenue  Seattle    WA  98101.0   \n",
       "3                    HOTEL MAX   620 STEWART ST  Seattle    WA  98101.0   \n",
       "4  WARWICK SEATTLE HOTEL (ID8)    401 LENORA ST  Seattle    WA  98121.0   \n",
       "\n",
       "  TaxParcelIdentificationNumber  ...  SteamUse(kBtu) Electricity(kWh)  \\\n",
       "0                    0659000030  ...      2003882.00     1.156514e+06   \n",
       "1                    0659000220  ...            0.00     9.504252e+05   \n",
       "2                    0659000475  ...     21566554.00     1.451544e+07   \n",
       "3                    0659000640  ...      2214446.25     8.115253e+05   \n",
       "4                    0659000970  ...            0.00     1.573449e+06   \n",
       "\n",
       "   Electricity(kBtu)  NaturalGas(therms)  NaturalGas(kBtu)  Comments  Outlier  \\\n",
       "0          3946027.0         12764.52930         1276453.0       NaN      NaN   \n",
       "1          3242851.0         51450.81641         5145082.0       NaN      NaN   \n",
       "2         49526664.0         14938.00000         1493800.0       NaN      NaN   \n",
       "3          2768924.0         18112.13086         1811213.0       NaN      NaN   \n",
       "4          5368607.0         88039.98438         8803998.0       NaN      NaN   \n",
       "\n",
       "   TotalGHGEmissions  GHGEmissionsIntensity NumberOfUseTypes  \n",
       "0             249.98                   2.83                1  \n",
       "1             295.86                   2.86                3  \n",
       "2            2089.28                   2.19                1  \n",
       "3             286.43                   4.67                1  \n",
       "4             505.01                   2.88                3  \n",
       "\n",
       "[5 rows x 43 columns]"
      ]
     },
     "execution_count": 245,
     "metadata": {},
     "output_type": "execute_result"
    }
   ],
   "source": [
    "# Créer NumberOfUseTypes à partir de ListOfAllPropertyUseTypes\n",
    "building_consumption[\"NumberOfUseTypes\"] = (\n",
    "    building_consumption[\"ListOfAllPropertyUseTypes\"]\n",
    "    .fillna(\"\")\n",
    "    .apply(lambda x: len(x.split(\",\")) if x else 0)\n",
    ")\n",
    "\n",
    "# Vérification rapide\n",
    "building_consumption[[\"ListOfAllPropertyUseTypes\", \"NumberOfUseTypes\"]].head(10)\n",
    "\n",
    "# Supprimer ListOfAllPropertyUseTypes\n",
    "building_consumption = building_consumption.drop(columns=[\"ListOfAllPropertyUseTypes\"])\n",
    "\n",
    "# Maximum number of use types\n",
    "max_use_types = building_consumption[\"NumberOfUseTypes\"].max()\n",
    "print(f\"Maximum number of use types: {max_use_types}\")\n",
    "building_consumption.head()\n"
   ]
  },
  {
   "cell_type": "markdown",
   "metadata": {},
   "source": [
    "## 2. Modification de la feature \"NumberofFloors\"\n",
    "\n",
    "### Création de quintiles (méthode pd.qcut()) pour la feature \"NumberofFloors\" et suppression de la colonne originale."
   ]
  },
  {
   "cell_type": "code",
   "execution_count": 246,
   "metadata": {},
   "outputs": [
    {
     "data": {
      "text/plain": [
       "count    1539.000000\n",
       "mean        4.283301\n",
       "std         6.796909\n",
       "min         0.000000\n",
       "25%         1.000000\n",
       "50%         2.000000\n",
       "75%         4.000000\n",
       "max        99.000000\n",
       "Name: NumberofFloors, dtype: float64"
      ]
     },
     "execution_count": 246,
     "metadata": {},
     "output_type": "execute_result"
    }
   ],
   "source": [
    "building_consumption[\"NumberofFloors\"].describe()"
   ]
  },
  {
   "cell_type": "code",
   "execution_count": 247,
   "metadata": {},
   "outputs": [
    {
     "data": {
      "image/png": "[encoded data removed]",
      "text/plain": [
       "<Figure size 1000x500 with 1 Axes>"
      ]
     },
     "metadata": {},
     "output_type": "display_data"
    }
   ],
   "source": [
    "plt.figure(figsize=(10, 5))\n",
    "sns.histplot(building_consumption[\"NumberofFloors\"], bins=30, kde=False)\n",
    "plt.title(\"Distribution du nombre d'étages\")\n",
    "plt.xlabel(\"Nombre d'étages\")\n",
    "plt.ylabel(\"Nombre de bâtiments\")\n",
    "plt.show()"
   ]
  },
  {
   "cell_type": "code",
   "execution_count": 248,
   "metadata": {},
   "outputs": [],
   "source": [
    "# Correction d'un batiment avec 99 étages (Chinese Baptist Church, check effectué sur Google Maps)\n",
    "\n",
    "building_consumption.loc[\n",
    "    building_consumption[\"NumberofFloors\"] == 99, \"NumberofFloors\"\n",
    "] = 1"
   ]
  },
  {
   "cell_type": "code",
   "execution_count": 249,
   "metadata": {},
   "outputs": [
    {
     "name": "stdout",
     "output_type": "stream",
     "text": [
      "NumberofFloors_quintile\n",
      "Q1    440\n",
      "Q2    344\n",
      "Q5    273\n",
      "Q3    244\n",
      "Q4    238\n",
      "Name: count, dtype: int64\n"
     ]
    }
   ],
   "source": [
    "# Créer des quintiles pour \"NumberofFloors\"\n",
    "# et afficher le nombre de bâtiments dans chaque quintile\n",
    "building_consumption[\"NumberofFloors_quintile\"] = pd.qcut(building_consumption[\"NumberofFloors\"], q=5, labels=[\"Q1\", \"Q2\", \"Q3\", \"Q4\", \"Q5\"])\n",
    "print(building_consumption[\"NumberofFloors_quintile\"].value_counts())\n",
    "# Encodage se fera dans l'étape 3. Préparation des features\n",
    "\n",
    "# Supprimer la colonne originale\n",
    "building_consumption.drop(columns=[\"NumberofFloors\"], inplace=True)"
   ]
  },
  {
   "cell_type": "markdown",
   "metadata": {},
   "source": [
    "## 3. Nouvelles features sur les types d'énergie utilisés\n",
    "\n",
    "### Création de variables indicatrices (0/1) pour indiquer si le bâtiment utilise ou pas chacun des types d'énergie suivants : \"Electricity(kBtu)\", \"NaturalGas(kBtu)\", \"SteamUse(kBtu)\". Pour cela, on crée une nouvelle colonne pour chaque type d'énergie, avec la valeur 1 si la consommation est supérieure à 0, et 0 sinon. On supprime ensuite les colonnes originales."
   ]
  },
  {
   "cell_type": "code",
   "execution_count": 250,
   "metadata": {},
   "outputs": [
    {
     "data": {
      "text/plain": [
       "Index(['OSEBuildingID', 'DataYear', 'BuildingType', 'PrimaryPropertyType',\n",
       "       'PropertyName', 'Address', 'City', 'State', 'ZipCode',\n",
       "       'TaxParcelIdentificationNumber', 'CouncilDistrictCode', 'Neighborhood',\n",
       "       'Latitude', 'Longitude', 'YearBuilt', 'NumberofBuildings',\n",
       "       'PropertyGFAParking', 'PropertyGFABuilding(s)',\n",
       "       'LargestPropertyUseType', 'LargestPropertyUseTypeGFA',\n",
       "       'SecondLargestPropertyUseType', 'SecondLargestPropertyUseTypeGFA',\n",
       "       'ThirdLargestPropertyUseType', 'ThirdLargestPropertyUseTypeGFA',\n",
       "       'YearsENERGYSTARCertified', 'ENERGYSTARScore', 'SiteEUI(kBtu/sf)',\n",
       "       'SiteEUIWN(kBtu/sf)', 'SourceEUI(kBtu/sf)', 'SourceEUIWN(kBtu/sf)',\n",
       "       'SiteEnergyUse(kBtu)', 'SiteEnergyUseWN(kBtu)', 'SteamUse(kBtu)',\n",
       "       'Electricity(kWh)', 'Electricity(kBtu)', 'NaturalGas(therms)',\n",
       "       'NaturalGas(kBtu)', 'Comments', 'Outlier', 'TotalGHGEmissions',\n",
       "       'GHGEmissionsIntensity', 'NumberOfUseTypes', 'NumberofFloors_quintile'],\n",
       "      dtype='object')"
      ]
     },
     "execution_count": 250,
     "metadata": {},
     "output_type": "execute_result"
    }
   ],
   "source": [
    "building_consumption.columns"
   ]
  },
  {
   "cell_type": "code",
   "execution_count": 251,
   "metadata": {},
   "outputs": [
    {
     "data": {
      "text/plain": [
       "0    1\n",
       "1    0\n",
       "2    1\n",
       "3    1\n",
       "4    0\n",
       "Name: SteamUse, dtype: int64"
      ]
     },
     "execution_count": 251,
     "metadata": {},
     "output_type": "execute_result"
    }
   ],
   "source": [
    "energy_features = [\"SteamUse(kBtu)\", \"NaturalGas(kBtu)\", \"Electricity(kBtu)\"]\n",
    "for energy in energy_features:\n",
    "    building_consumption[energy.replace(\"(kBtu)\", \"\").strip()] = (\n",
    "        building_consumption[energy] > 0\n",
    "    ).astype(int)\n",
    "\n",
    "# Supprimer les colonnes originales\n",
    "building_consumption.drop(columns=energy_features, inplace=True)\n",
    "building_consumption[\"SteamUse\"].head()"
   ]
  },
  {
   "cell_type": "markdown",
   "metadata": {},
   "source": [
    "## 4. Feature à partir de YearBuilt\n",
    "\n",
    "### Création d'intervalles de 20 ans pour la feature \"YearBuilt\" et suppression de la colonne originale."
   ]
  },
  {
   "cell_type": "code",
   "execution_count": 252,
   "metadata": {},
   "outputs": [
    {
     "data": {
      "text/plain": [
       "count    1539.000000\n",
       "mean     1961.807018\n",
       "std        32.765547\n",
       "min      1900.000000\n",
       "25%      1930.000000\n",
       "50%      1966.000000\n",
       "75%      1989.000000\n",
       "max      2015.000000\n",
       "Name: YearBuilt, dtype: float64"
      ]
     },
     "execution_count": 252,
     "metadata": {},
     "output_type": "execute_result"
    }
   ],
   "source": [
    "building_consumption[\"YearBuilt\"].describe()"
   ]
  },
  {
   "cell_type": "code",
   "execution_count": 253,
   "metadata": {},
   "outputs": [],
   "source": [
    "# Supposant building_consumption a YearBuilt\n",
    "bins = [0, 1930, 1950, 1970, 1990, 2010, 2025]\n",
    "labels = [\"≤1930\", \"1931-1950\", \"1951-1970\", \"1971-1990\", \"1991-2010\", \"Post-2010\"]\n",
    "building_consumption[\"EraBuilt\"] = pd.cut(\n",
    "    building_consumption[\"YearBuilt\"],\n",
    "    bins=bins,\n",
    "    labels=labels,\n",
    "    right=True,\n",
    "    include_lowest=True,\n",
    ")\n",
    "# Encodage se fera dans l'étape 3. Préparation des features\n",
    "\n",
    "# Suppression de la variable YearBuilt\n",
    "building_consumption.drop(columns=[\"YearBuilt\"], inplace=True)"
   ]
  },
  {
   "cell_type": "code",
   "execution_count": 254,
   "metadata": {},
   "outputs": [],
   "source": [
    "### Dataset post feature engineering\n",
    "building_consumption.to_csv(\"../assets/building_consumption_post_feature_engineering.csv\", index=False)"
   ]
  }
 ],
 "metadata": {
  "kernelspec": {
   "display_name": "OC_P3",
   "language": "python",
   "name": "python3"
  },
  "language_info": {
   "codemirror_mode": {
    "name": "ipython",
    "version": 3
   },
   "file_extension": ".py",
   "mimetype": "text/x-python",
   "name": "python",
   "nbconvert_exporter": "python",
   "pygments_lexer": "ipython3",
   "version": "3.12.2"
  }
 },
 "nbformat": 4,
 "nbformat_minor": 2
}
