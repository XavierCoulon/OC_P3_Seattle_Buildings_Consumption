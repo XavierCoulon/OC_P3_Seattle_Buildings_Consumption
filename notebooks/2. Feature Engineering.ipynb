{
 "cells": [
  {
   "cell_type": "markdown",
   "metadata": {},
   "source": [
    "# Modélisation "
   ]
  },
  {
   "cell_type": "markdown",
   "metadata": {},
   "source": [
    "### Import des modules "
   ]
  },
  {
   "cell_type": "code",
   "execution_count": 12,
   "metadata": {},
   "outputs": [],
   "source": [
    "import pandas as pd\n",
    "import numpy as np\n",
    "import matplotlib.pyplot as plt\n",
    "import seaborn as sns\n",
    "\n",
    "#Selection\n",
    "from sklearn.model_selection import (\n",
    "    train_test_split,\n",
    "    GridSearchCV, \n",
    "    cross_validate,\n",
    ")\n",
    "from sklearn.metrics import mean_squared_error, r2_score, mean_absolute_error \n",
    "from sklearn.inspection import permutation_importance\n",
    "\n",
    "\n",
    "\n",
    "#Modèles\n",
    "from sklearn.dummy import DummyRegressor\n",
    "from sklearn.linear_model import LinearRegression\n",
    "from sklearn.svm import SVR\n",
    "from sklearn.ensemble import RandomForestRegressor\n"
   ]
  },
  {
   "cell_type": "markdown",
   "metadata": {},
   "source": [
    "### Feature Engineering"
   ]
  },
  {
   "cell_type": "markdown",
   "metadata": {},
   "source": [
    "A réaliser : Enrichir le jeu de données actuel avec de nouvelles features issues de celles existantes. "
   ]
  },
  {
   "cell_type": "markdown",
   "metadata": {},
   "source": [
    "En règle générale : On utilise la méthode .apply() de Pandas pour créer une nouvelle colonne à partir d'une colonne existante. N'hésitez pas à regarder les exemples dans les chapitres de cours donnés en ressource"
   ]
  },
  {
   "cell_type": "code",
   "execution_count": 13,
   "metadata": {},
   "outputs": [
    {
     "name": "stdout",
     "output_type": "stream",
     "text": [
      "2\n"
     ]
    }
   ],
   "source": [
    "# CODE FEATURE ENGINEERING\n",
    "building_consumption = pd.read_csv(\"../assets/building_consumption_post_EDA.csv\")\n",
    "print(\t\n",
    "\t(\n",
    "    building_consumption[\"ListOfAllPropertyUseTypes\"].isna()\n",
    "    | (building_consumption[\"ListOfAllPropertyUseTypes\"].str.strip() == \"\")\n",
    ").sum())\n",
    "# building_consumption.info()"
   ]
  },
  {
   "cell_type": "markdown",
   "metadata": {},
   "source": [
    "## 1. Nouvelles features sur le type d'usage\n",
    "\n",
    "### A partir des informations sur les types d'usage des bâtiments et leurs surfaces associées, identifier le top 10 des types d'usage les plus fréquents dans le dataset et créer une nouvelle feature binaire (0/1) pour chacun de ces types d'usage, indiquant si le bâtiment a ce type d'usage ou pas.\n"
   ]
  },
  {
   "cell_type": "code",
   "execution_count": 14,
   "metadata": {},
   "outputs": [
    {
     "name": "stdout",
     "output_type": "stream",
     "text": [
      "Nombre d'usages distincts : 60\n",
      "{'Non-Refrigerated Warehouse', 'Manufacturing/Industrial Plant', 'Medical Office', 'Other - Recreation', 'Other', 'Residential Care Facility', 'Other/Specialty Hospital', 'Self-Storage Facility', 'Courthouse', 'Shoe', 'Strip Mall', 'Locksmith', 'Laboratory', 'Automobile Dealership', 'Worship Facility', 'Fitness Center/Health Club/Gym', 'Museum', 'Residence Hall/Dormitory', 'Prison/Incarceration', 'Repair Services (Vehicle', 'Other - Entertainment/Public Assembly', 'Library', 'Financial Office', 'Other - Services', 'Bank Branch', 'Pre-school/Daycare', 'Data Center', 'Supermarket/Grocery Store', 'Office', 'K-12 School', 'Food Service', 'Urgent Care/Clinic/Other Outpatient', 'Distribution Center', 'Other - Restaurant/Bar', 'Performing Arts', 'Hospital (General Medical & Surgical)', 'Multifamily Housing', 'Adult Education', 'Fire Station', 'etc)', 'Movie Theater', 'Police Station', 'Other - Utility', 'Other - Mall', 'Retail Store', 'Social/Meeting Hall', 'Wholesale Club/Supercenter', 'Convention Center', 'Hotel', 'College/University', 'Other - Lodging/Residential', 'Parking', 'Personal Services (Health/Beauty', 'Other - Public Services', 'Senior Care Community', 'Restaurant', 'Dry Cleaning', 'Lifestyle Center', 'Other - Education', 'Refrigerated Warehouse'}\n"
     ]
    }
   ],
   "source": [
    "feature = \"LargestPropertyUseType\"\n",
    "\n",
    "# Supprimer les NaN pour éviter les erreurs\n",
    "types = building_consumption[feature].dropna()\n",
    "\n",
    "# Découper par \",\", nettoyer les espaces\n",
    "all_types = types.apply(lambda x: [t.strip() for t in x.split(\",\")])\n",
    "\n",
    "# Aplatir la liste\n",
    "unique_types = set([t for sublist in all_types for t in sublist])\n",
    "\n",
    "# Nombre d'usages uniques\n",
    "print(f\"Nombre d'usages distincts : {len(unique_types)}\")\n",
    "\n",
    "# Liste des usages\n",
    "print(unique_types)"
   ]
  },
  {
   "cell_type": "code",
   "execution_count": 15,
   "metadata": {},
   "outputs": [
    {
     "name": "stdout",
     "output_type": "stream",
     "text": [
      "Usage\n",
      "Office                                   6.269492e+07\n",
      "Parking                                  2.368383e+07\n",
      "Non-Refrigerated Warehouse               1.161317e+07\n",
      "Hotel                                    1.080014e+07\n",
      "K-12 School                              1.059569e+07\n",
      "Retail Store                             8.293456e+06\n",
      "Other                                    7.761624e+06\n",
      "Hospital (General Medical & Surgical)    6.940263e+06\n",
      "Medical Office                           4.752608e+06\n",
      "Other - Entertainment/Public Assembly    4.354264e+06\n",
      "Name: GFA, dtype: float64\n"
     ]
    }
   ],
   "source": [
    "# On récupère les colonnes d'usage et de surface\n",
    "use_cols = [\n",
    "    \"LargestPropertyUseType\",\n",
    "    \"SecondLargestPropertyUseType\",\n",
    "    \"ThirdLargestPropertyUseType\",\n",
    "]\n",
    "gfa_cols = [\n",
    "    \"LargestPropertyUseTypeGFA\",\n",
    "    \"SecondLargestPropertyUseTypeGFA\",\n",
    "    \"ThirdLargestPropertyUseTypeGFA\",\n",
    "]\n",
    "\n",
    "# Construire un DataFrame \"long\" pour sommer les surfaces par type d'usage\n",
    "usage_long = pd.DataFrame(\n",
    "    {\n",
    "        \"Usage\": pd.concat(\n",
    "            [building_consumption[col] for col in use_cols], ignore_index=True\n",
    "        ),\n",
    "        \"GFA\": pd.concat(\n",
    "            [building_consumption[col] for col in gfa_cols], ignore_index=True\n",
    "        ),\n",
    "    }\n",
    ")\n",
    "\n",
    "# Supprimer les NaN\n",
    "usage_long = usage_long.dropna()\n",
    "\n",
    "# Somme des surfaces par usage\n",
    "usage_summary = usage_long.groupby(\"Usage\")[\"GFA\"].sum().sort_values(ascending=False)\n",
    "\n",
    "# Top 10 usages\n",
    "top_usage = usage_summary.head(10)\n",
    "print(top_usage)"
   ]
  },
  {
   "cell_type": "code",
   "execution_count": 16,
   "metadata": {},
   "outputs": [
    {
     "name": "stdout",
     "output_type": "stream",
     "text": [
      "Les top 10 usages représentent 83.17% de la surface totale.\n"
     ]
    }
   ],
   "source": [
    "# Surface totale de tous les usages\n",
    "total_gfa_all = usage_long[\"GFA\"].sum()\n",
    "\n",
    "# Surface cumulée des top 10 usages\n",
    "total_gfa_top10 = top_usage.sum()\n",
    "\n",
    "# Pourcentage\n",
    "pct_top10 = total_gfa_top10 / total_gfa_all * 100\n",
    "print(f\"Les top 10 usages représentent {pct_top10:.2f}% de la surface totale.\")"
   ]
  },
  {
   "cell_type": "code",
   "execution_count": 17,
   "metadata": {},
   "outputs": [
    {
     "data": {
      "text/html": [
       "<div>\n",
       "<style scoped>\n",
       "    .dataframe tbody tr th:only-of-type {\n",
       "        vertical-align: middle;\n",
       "    }\n",
       "\n",
       "    .dataframe tbody tr th {\n",
       "        vertical-align: top;\n",
       "    }\n",
       "\n",
       "    .dataframe thead th {\n",
       "        text-align: right;\n",
       "    }\n",
       "</style>\n",
       "<table border=\"1\" class=\"dataframe\">\n",
       "  <thead>\n",
       "    <tr style=\"text-align: right;\">\n",
       "      <th></th>\n",
       "      <th>OSEBuildingID</th>\n",
       "      <th>DataYear</th>\n",
       "      <th>BuildingType</th>\n",
       "      <th>PrimaryPropertyType</th>\n",
       "      <th>PropertyName</th>\n",
       "      <th>Address</th>\n",
       "      <th>City</th>\n",
       "      <th>State</th>\n",
       "      <th>ZipCode</th>\n",
       "      <th>TaxParcelIdentificationNumber</th>\n",
       "      <th>...</th>\n",
       "      <th>Office</th>\n",
       "      <th>Parking</th>\n",
       "      <th>Non-Refrigerated Warehouse</th>\n",
       "      <th>Hotel</th>\n",
       "      <th>K-12 School</th>\n",
       "      <th>Retail Store</th>\n",
       "      <th>Other</th>\n",
       "      <th>Hospital (General Medical &amp; Surgical)</th>\n",
       "      <th>Medical Office</th>\n",
       "      <th>Other - Entertainment/Public Assembly</th>\n",
       "    </tr>\n",
       "  </thead>\n",
       "  <tbody>\n",
       "    <tr>\n",
       "      <th>0</th>\n",
       "      <td>1</td>\n",
       "      <td>2016</td>\n",
       "      <td>NonResidential</td>\n",
       "      <td>Hotel</td>\n",
       "      <td>Mayflower park hotel</td>\n",
       "      <td>405 Olive way</td>\n",
       "      <td>Seattle</td>\n",
       "      <td>WA</td>\n",
       "      <td>98101.0</td>\n",
       "      <td>0659000030</td>\n",
       "      <td>...</td>\n",
       "      <td>0</td>\n",
       "      <td>0</td>\n",
       "      <td>0</td>\n",
       "      <td>1</td>\n",
       "      <td>0</td>\n",
       "      <td>0</td>\n",
       "      <td>0</td>\n",
       "      <td>0</td>\n",
       "      <td>0</td>\n",
       "      <td>0</td>\n",
       "    </tr>\n",
       "    <tr>\n",
       "      <th>1</th>\n",
       "      <td>2</td>\n",
       "      <td>2016</td>\n",
       "      <td>NonResidential</td>\n",
       "      <td>Hotel</td>\n",
       "      <td>Paramount Hotel</td>\n",
       "      <td>724 Pine street</td>\n",
       "      <td>Seattle</td>\n",
       "      <td>WA</td>\n",
       "      <td>98101.0</td>\n",
       "      <td>0659000220</td>\n",
       "      <td>...</td>\n",
       "      <td>0</td>\n",
       "      <td>1</td>\n",
       "      <td>0</td>\n",
       "      <td>1</td>\n",
       "      <td>0</td>\n",
       "      <td>0</td>\n",
       "      <td>0</td>\n",
       "      <td>0</td>\n",
       "      <td>0</td>\n",
       "      <td>0</td>\n",
       "    </tr>\n",
       "    <tr>\n",
       "      <th>2</th>\n",
       "      <td>3</td>\n",
       "      <td>2016</td>\n",
       "      <td>NonResidential</td>\n",
       "      <td>Hotel</td>\n",
       "      <td>5673-The Westin Seattle</td>\n",
       "      <td>1900 5th Avenue</td>\n",
       "      <td>Seattle</td>\n",
       "      <td>WA</td>\n",
       "      <td>98101.0</td>\n",
       "      <td>0659000475</td>\n",
       "      <td>...</td>\n",
       "      <td>0</td>\n",
       "      <td>0</td>\n",
       "      <td>0</td>\n",
       "      <td>1</td>\n",
       "      <td>0</td>\n",
       "      <td>0</td>\n",
       "      <td>0</td>\n",
       "      <td>0</td>\n",
       "      <td>0</td>\n",
       "      <td>0</td>\n",
       "    </tr>\n",
       "    <tr>\n",
       "      <th>3</th>\n",
       "      <td>5</td>\n",
       "      <td>2016</td>\n",
       "      <td>NonResidential</td>\n",
       "      <td>Hotel</td>\n",
       "      <td>HOTEL MAX</td>\n",
       "      <td>620 STEWART ST</td>\n",
       "      <td>Seattle</td>\n",
       "      <td>WA</td>\n",
       "      <td>98101.0</td>\n",
       "      <td>0659000640</td>\n",
       "      <td>...</td>\n",
       "      <td>0</td>\n",
       "      <td>0</td>\n",
       "      <td>0</td>\n",
       "      <td>1</td>\n",
       "      <td>0</td>\n",
       "      <td>0</td>\n",
       "      <td>0</td>\n",
       "      <td>0</td>\n",
       "      <td>0</td>\n",
       "      <td>0</td>\n",
       "    </tr>\n",
       "    <tr>\n",
       "      <th>4</th>\n",
       "      <td>8</td>\n",
       "      <td>2016</td>\n",
       "      <td>NonResidential</td>\n",
       "      <td>Hotel</td>\n",
       "      <td>WARWICK SEATTLE HOTEL (ID8)</td>\n",
       "      <td>401 LENORA ST</td>\n",
       "      <td>Seattle</td>\n",
       "      <td>WA</td>\n",
       "      <td>98121.0</td>\n",
       "      <td>0659000970</td>\n",
       "      <td>...</td>\n",
       "      <td>0</td>\n",
       "      <td>1</td>\n",
       "      <td>0</td>\n",
       "      <td>1</td>\n",
       "      <td>0</td>\n",
       "      <td>0</td>\n",
       "      <td>0</td>\n",
       "      <td>0</td>\n",
       "      <td>0</td>\n",
       "      <td>0</td>\n",
       "    </tr>\n",
       "  </tbody>\n",
       "</table>\n",
       "<p>5 rows × 50 columns</p>\n",
       "</div>"
      ],
      "text/plain": [
       "   OSEBuildingID  DataYear    BuildingType PrimaryPropertyType  \\\n",
       "0              1      2016  NonResidential               Hotel   \n",
       "1              2      2016  NonResidential               Hotel   \n",
       "2              3      2016  NonResidential               Hotel   \n",
       "3              5      2016  NonResidential               Hotel   \n",
       "4              8      2016  NonResidential               Hotel   \n",
       "\n",
       "                  PropertyName          Address     City State  ZipCode  \\\n",
       "0         Mayflower park hotel    405 Olive way  Seattle    WA  98101.0   \n",
       "1              Paramount Hotel  724 Pine street  Seattle    WA  98101.0   \n",
       "2      5673-The Westin Seattle  1900 5th Avenue  Seattle    WA  98101.0   \n",
       "3                    HOTEL MAX   620 STEWART ST  Seattle    WA  98101.0   \n",
       "4  WARWICK SEATTLE HOTEL (ID8)    401 LENORA ST  Seattle    WA  98121.0   \n",
       "\n",
       "  TaxParcelIdentificationNumber  ...  Office Parking  \\\n",
       "0                    0659000030  ...       0       0   \n",
       "1                    0659000220  ...       0       1   \n",
       "2                    0659000475  ...       0       0   \n",
       "3                    0659000640  ...       0       0   \n",
       "4                    0659000970  ...       0       1   \n",
       "\n",
       "   Non-Refrigerated Warehouse  Hotel  K-12 School  Retail Store  Other  \\\n",
       "0                           0      1            0             0      0   \n",
       "1                           0      1            0             0      0   \n",
       "2                           0      1            0             0      0   \n",
       "3                           0      1            0             0      0   \n",
       "4                           0      1            0             0      0   \n",
       "\n",
       "   Hospital (General Medical & Surgical)  Medical Office  \\\n",
       "0                                      0               0   \n",
       "1                                      0               0   \n",
       "2                                      0               0   \n",
       "3                                      0               0   \n",
       "4                                      0               0   \n",
       "\n",
       "   Other - Entertainment/Public Assembly  \n",
       "0                                      0  \n",
       "1                                      0  \n",
       "2                                      0  \n",
       "3                                      0  \n",
       "4                                      0  \n",
       "\n",
       "[5 rows x 50 columns]"
      ]
     },
     "execution_count": 17,
     "metadata": {},
     "output_type": "execute_result"
    }
   ],
   "source": [
    "# Créer des colonnes binaires pour chaque usage dans le DataFrame original\n",
    "for usage in top_usage.index:\n",
    "    # 1 si usage présent dans l'une des 3 colonnes, 0 sinon\n",
    "    building_consumption[usage] = (\n",
    "        building_consumption[use_cols].isin([usage]).any(axis=1).astype(int)\n",
    "    )\n",
    "# Supprimer les colonnes d'usage originales et les surfaces associées   \n",
    "building_consumption.drop(columns=use_cols + gfa_cols, inplace=True)\n",
    "\n",
    "# Vérifier\n",
    "building_consumption.head()"
   ]
  },
  {
   "cell_type": "markdown",
   "metadata": {},
   "source": [
    "## 2. Modification de la feature \"NumberofFloors\"\n",
    "\n",
    "### Création de quintiles (méthode pd.qcut()) pour la feature \"NumberofFloors\" et suppression de la colonne originale."
   ]
  },
  {
   "cell_type": "code",
   "execution_count": 18,
   "metadata": {},
   "outputs": [
    {
     "data": {
      "text/plain": [
       "count    1627.000000\n",
       "mean        4.159803\n",
       "std         6.634568\n",
       "min         0.000000\n",
       "25%         1.000000\n",
       "50%         2.000000\n",
       "75%         4.000000\n",
       "max        99.000000\n",
       "Name: NumberofFloors, dtype: float64"
      ]
     },
     "execution_count": 18,
     "metadata": {},
     "output_type": "execute_result"
    }
   ],
   "source": [
    "building_consumption[\"NumberofFloors\"].describe()"
   ]
  },
  {
   "cell_type": "code",
   "execution_count": 19,
   "metadata": {},
   "outputs": [
    {
     "data": {
      "image/png": "[encoded data removed]",
      "text/plain": [
       "<Figure size 1000x500 with 1 Axes>"
      ]
     },
     "metadata": {},
     "output_type": "display_data"
    }
   ],
   "source": [
    "plt.figure(figsize=(10, 5))\n",
    "sns.histplot(building_consumption[\"NumberofFloors\"], bins=30, kde=False)\n",
    "plt.title(\"Distribution du nombre d'étages\")\n",
    "plt.xlabel(\"Nombre d'étages\")\n",
    "plt.ylabel(\"Nombre de bâtiments\")\n",
    "plt.show()"
   ]
  },
  {
   "cell_type": "code",
   "execution_count": 20,
   "metadata": {},
   "outputs": [
    {
     "name": "stdout",
     "output_type": "stream",
     "text": [
      "NumberofFloors_quintile\n",
      "0    471\n",
      "1    376\n",
      "4    275\n",
      "2    262\n",
      "3    243\n",
      "Name: count, dtype: int64\n"
     ]
    }
   ],
   "source": [
    "# Créer des quintiles pour \"NumberofFloors\"\n",
    "# et afficher le nombre de bâtiments dans chaque quintile\n",
    "building_consumption[\"NumberofFloors_quintile\"] = pd.qcut(building_consumption[\"NumberofFloors\"], q=5, labels=False)\n",
    "print(building_consumption[\"NumberofFloors_quintile\"].value_counts())\n",
    "\n",
    "# Supprimer la colonne originale\n",
    "building_consumption.drop(columns=[\"NumberofFloors\"], inplace=True)"
   ]
  },
  {
   "cell_type": "markdown",
   "metadata": {},
   "source": [
    "## 3. Nouvelles features sur les types d'énergie utilisés\n",
    "\n",
    "### Création de variables indicatrices (0/1) pour indiquer si le bâtiment utilise ou pas chacun des types d'énergie suivants : \"Electricity(kBtu)\", \"NaturalGas(kBtu)\", \"SteamUse(kBtu)\". Pour cela, on crée une nouvelle colonne pour chaque type d'énergie, avec la valeur 1 si la consommation est supérieure à 0, et 0 sinon. On supprime ensuite les colonnes originales."
   ]
  },
  {
   "cell_type": "code",
   "execution_count": 21,
   "metadata": {},
   "outputs": [
    {
     "data": {
      "text/plain": [
       "Index(['OSEBuildingID', 'DataYear', 'BuildingType', 'PrimaryPropertyType',\n",
       "       'PropertyName', 'Address', 'City', 'State', 'ZipCode',\n",
       "       'TaxParcelIdentificationNumber', 'CouncilDistrictCode', 'Neighborhood',\n",
       "       'Latitude', 'Longitude', 'YearBuilt', 'NumberofBuildings',\n",
       "       'PropertyGFATotal', 'PropertyGFAParking', 'PropertyGFABuilding(s)',\n",
       "       'ListOfAllPropertyUseTypes', 'YearsENERGYSTARCertified',\n",
       "       'ENERGYSTARScore', 'SiteEUI(kBtu/sf)', 'SiteEUIWN(kBtu/sf)',\n",
       "       'SourceEUI(kBtu/sf)', 'SourceEUIWN(kBtu/sf)', 'SiteEnergyUse(kBtu)',\n",
       "       'SiteEnergyUseWN(kBtu)', 'SteamUse(kBtu)', 'Electricity(kWh)',\n",
       "       'Electricity(kBtu)', 'NaturalGas(therms)', 'NaturalGas(kBtu)',\n",
       "       'DefaultData', 'Comments', 'ComplianceStatus', 'Outlier',\n",
       "       'TotalGHGEmissions', 'GHGEmissionsIntensity', 'Office', 'Parking',\n",
       "       'Non-Refrigerated Warehouse', 'Hotel', 'K-12 School', 'Retail Store',\n",
       "       'Other', 'Hospital (General Medical & Surgical)', 'Medical Office',\n",
       "       'Other - Entertainment/Public Assembly', 'NumberofFloors_quintile'],\n",
       "      dtype='object')"
      ]
     },
     "execution_count": 21,
     "metadata": {},
     "output_type": "execute_result"
    }
   ],
   "source": [
    "building_consumption.columns"
   ]
  },
  {
   "cell_type": "code",
   "execution_count": 22,
   "metadata": {},
   "outputs": [
    {
     "data": {
      "text/plain": [
       "0    1\n",
       "1    0\n",
       "2    1\n",
       "3    1\n",
       "4    0\n",
       "Name: SteamUse, dtype: int64"
      ]
     },
     "execution_count": 22,
     "metadata": {},
     "output_type": "execute_result"
    }
   ],
   "source": [
    "energy_features = [\"SteamUse(kBtu)\", \"NaturalGas(kBtu)\", \"Electricity(kBtu)\"]\n",
    "for energy in energy_features:\n",
    "    building_consumption[energy.replace(\"(kBtu)\", \"\").strip()] = (\n",
    "        building_consumption[energy] > 0\n",
    "    ).astype(int)\n",
    "\n",
    "# Supprimer les colonnes originales\n",
    "building_consumption.drop(columns=energy_features, inplace=True)\n",
    "building_consumption[\"SteamUse\"].head()"
   ]
  },
  {
   "cell_type": "code",
   "execution_count": 23,
   "metadata": {},
   "outputs": [],
   "source": [
    "### Dataset post feature engineering\n",
    "building_consumption.to_csv(\"../assets/building_consumption_post_feature_engineering.csv\", index=False)"
   ]
  }
 ],
 "metadata": {
  "kernelspec": {
   "display_name": "OC_P3",
   "language": "python",
   "name": "python3"
  },
  "language_info": {
   "codemirror_mode": {
    "name": "ipython",
    "version": 3
   },
   "file_extension": ".py",
   "mimetype": "text/x-python",
   "name": "python",
   "nbconvert_exporter": "python",
   "pygments_lexer": "ipython3",
   "version": "3.12.2"
  }
 },
 "nbformat": 4,
 "nbformat_minor": 2
}
