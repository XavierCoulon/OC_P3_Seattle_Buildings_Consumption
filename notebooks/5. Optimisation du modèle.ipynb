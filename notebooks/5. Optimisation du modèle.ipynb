{
 "cells": [
  {
   "cell_type": "markdown",
   "metadata": {},
   "source": [
    "### Import des modules "
   ]
  },
  {
   "cell_type": "code",
   "execution_count": 5,
   "metadata": {},
   "outputs": [],
   "source": [
    "# Selection\n",
    "from sklearn.model_selection import (\n",
    "    GridSearchCV, \n",
    ")\n",
    "from sklearn.pipeline import Pipeline\n",
    "\n",
    "\n",
    "# Preprocess\n",
    "from sklearn.preprocessing import StandardScaler\n",
    "\n",
    "# Modèles\n",
    "from sklearn.ensemble import RandomForestRegressor, GradientBoostingRegressor\n",
    "\n",
    "import sys\n",
    "import importlib\n",
    "import numpy as np\n",
    "import pandas as pd\n",
    "import matplotlib.pyplot as plt\n",
    "import seaborn as sns\n",
    "\n",
    "sys.path.append(\"..\")\n",
    "import config\n",
    "\n",
    "importlib.reload(config)  # Ensure we get the latest TARGET value\n",
    "from config import TARGET"
   ]
  },
  {
   "cell_type": "markdown",
   "metadata": {},
   "source": [
    "### Optimisation et interprétation du modèle"
   ]
  },
  {
   "cell_type": "markdown",
   "metadata": {},
   "source": [
    "A réaliser :\n",
    "* Reprennez le meilleur algorithme que vous avez sécurisé via l'étape précédente, et réalisez une GridSearch de petite taille sur au moins 3 hyperparamètres.\n",
    "* Si le meilleur modèle fait partie de la famille des modèles à arbres (RandomForest, GradientBoosting) alors utilisez la fonctionnalité feature importance pour identifier les features les plus impactantes sur la performance du modèle. Sinon, utilisez la méthode Permutation Importance de sklearn."
   ]
  },
  {
   "cell_type": "code",
   "execution_count": 6,
   "metadata": {},
   "outputs": [
    {
     "data": {
      "text/plain": [
       "Index(['NumberofBuildings', 'PropertyGFAParking', 'PropertyGFABuilding(s)',\n",
       "       'ENERGYSTARScore', 'TotalGHGEmissions', 'NumberOfUseTypes', 'SteamUse',\n",
       "       'NaturalGas', 'Electricity', 'PrimaryPropertyType_0',\n",
       "       'PrimaryPropertyType_1', 'PrimaryPropertyType_2',\n",
       "       'PrimaryPropertyType_3', 'PrimaryPropertyType_4',\n",
       "       'BuildingType_Nonresidential COS', 'BuildingType_Nonresidential WA',\n",
       "       'BuildingType_SPS-District K-12', 'NumberofFloors_quintile_Q2',\n",
       "       'NumberofFloors_quintile_Q3', 'NumberofFloors_quintile_Q4',\n",
       "       'NumberofFloors_quintile_Q5', 'EraBuilt_1951-1970',\n",
       "       'EraBuilt_1971-1990', 'EraBuilt_1991-2010', 'EraBuilt_Post-2010',\n",
       "       'EraBuilt_≤1930'],\n",
       "      dtype='object')"
      ]
     },
     "execution_count": 6,
     "metadata": {},
     "output_type": "execute_result"
    }
   ],
   "source": [
    "import pandas as pd\n",
    "\n",
    "building_consumption = pd.read_csv(\"../assets/building_consumption_cleaned.csv\")\n",
    "building_consumption.head()\n",
    "building_consumption.columns"
   ]
  },
  {
   "cell_type": "code",
   "execution_count": 7,
   "metadata": {},
   "outputs": [
    {
     "name": "stdout",
     "output_type": "stream",
     "text": [
      "Fitting 5 folds for each of 36 candidates, totalling 180 fits\n",
      "Meilleurs hyperparamètres : {'model__max_depth': 20, 'model__min_samples_split': 2, 'model__n_estimators': 100}\n",
      "Meilleur R² : 0.5524571732977923\n",
      "Meilleurs hyperparamètres : {'model__max_depth': 20, 'model__min_samples_split': 2, 'model__n_estimators': 100}\n",
      "Meilleur R² : 0.5524571732977923\n",
      "Baseline R² (same as notebook 4): 0.552\n",
      "                       feature  importance\n",
      "0            NumberofBuildings    0.409852\n",
      "2       PropertyGFABuilding(s)    0.290015\n",
      "3              ENERGYSTARScore    0.078771\n",
      "19  NumberofFloors_quintile_Q5    0.030999\n",
      "10       PrimaryPropertyType_2    0.025534\n",
      "6                   NaturalGas    0.021729\n",
      "5                     SteamUse    0.018612\n",
      "9        PrimaryPropertyType_1    0.016672\n",
      "4             NumberOfUseTypes    0.015608\n",
      "11       PrimaryPropertyType_3    0.015226\n",
      "Baseline R² (same as notebook 4): 0.552\n",
      "                       feature  importance\n",
      "0            NumberofBuildings    0.409852\n",
      "2       PropertyGFABuilding(s)    0.290015\n",
      "3              ENERGYSTARScore    0.078771\n",
      "19  NumberofFloors_quintile_Q5    0.030999\n",
      "10       PrimaryPropertyType_2    0.025534\n",
      "6                   NaturalGas    0.021729\n",
      "5                     SteamUse    0.018612\n",
      "9        PrimaryPropertyType_1    0.016672\n",
      "4             NumberOfUseTypes    0.015608\n",
      "11       PrimaryPropertyType_3    0.015226\n"
     ]
    }
   ],
   "source": [
    "# Préprocessor : toutes les features sont numériques et encodées\n",
    "preprocessor = StandardScaler()\n",
    "\n",
    "# Import the same CV strategy from notebook 4\n",
    "from sklearn.model_selection import KFold\n",
    "\n",
    "# Use the same CV strategy as notebook 4\n",
    "cv_strategy = KFold(n_splits=5, shuffle=True, random_state=42)\n",
    "\n",
    "# Pipeline RandomForest - match exactly notebook 4 configuration\n",
    "pipeline_rf = Pipeline([\n",
    "    (\"model\", RandomForestRegressor(random_state=42))\n",
    "])\n",
    "\n",
    "# Hyperparamètres à tester\n",
    "param_grid = {\n",
    "    \"model__n_estimators\": [100, 300, 500],  # nombre d'arbres\n",
    "    \"model__max_depth\": [None, 5, 10, 20],  # profondeur max\n",
    "    \"model__min_samples_split\": [2, 5, 10],  # nb min d'échantillons pour splitter\n",
    "}\n",
    "\n",
    "grid_search = GridSearchCV(\n",
    "    pipeline_rf, param_grid, cv=cv_strategy, scoring=\"r2\", n_jobs=-1, verbose=1\n",
    ")\n",
    "\n",
    "# On sépare X et y\n",
    "X = building_consumption.drop(columns=[TARGET])\n",
    "y = building_consumption[TARGET]\n",
    "\n",
    "# Lancement de la recherche\n",
    "grid_search.fit(X, y)\n",
    "\n",
    "print(\"Meilleurs hyperparamètres :\", grid_search.best_params_)\n",
    "print(\"Meilleur R² :\", grid_search.best_score_)\n",
    "\n",
    "# Verify baseline: test the exact same config as notebook 4\n",
    "baseline_rf = RandomForestRegressor(n_estimators=100, random_state=42, max_depth=20, min_samples_split=2)\n",
    "from sklearn.model_selection import cross_validate\n",
    "\n",
    "baseline_cv = cross_validate(\n",
    "    baseline_rf, X, y, cv=cv_strategy, scoring=\"r2\", return_train_score=True\n",
    ")\n",
    "print(f\"Baseline R² (same as notebook 4): {baseline_cv['test_score'].mean():.3f}\")\n",
    "\n",
    "# Feature importance\n",
    "best_model = grid_search.best_estimator_.named_steps[\"model\"]\n",
    "importances = best_model.feature_importances_\n",
    "feature_names = X.columns\n",
    "\n",
    "feat_imp_df = pd.DataFrame(\n",
    "    {\"feature\": feature_names, \"importance\": importances}\n",
    ").sort_values(by=\"importance\", ascending=False)\n",
    "\n",
    "print(feat_imp_df.head(10))  # top 10 features"
   ]
  },
  {
   "cell_type": "markdown",
   "metadata": {},
   "source": [
    "### Optimisation GradientBoostingRegressor\n",
    "\n",
    "Maintenant, testons également l'optimisation du GradientBoostingRegressor qui a montré de bonnes performances dans le notebook de comparaison."
   ]
  },
  {
   "cell_type": "code",
   "execution_count": 8,
   "metadata": {},
   "outputs": [
    {
     "name": "stdout",
     "output_type": "stream",
     "text": [
      "Configuration de la grille de recherche pour GradientBoosting:\n",
      "Nombre total de combinaisons: 81\n",
      "Paramètres testés:\n",
      "  model__n_estimators: [100, 200, 300]\n",
      "  model__max_depth: [3, 5, 7]\n",
      "  model__learning_rate: [0.05, 0.1, 0.15]\n",
      "  model__subsample: [0.8, 0.9, 1.0]\n",
      "\n",
      "🚀 Lancement de l'optimisation GradientBoosting...\n",
      "Fitting 5 folds for each of 81 candidates, totalling 405 fits\n",
      "\n",
      "=== RÉSULTATS GRADIENTBOOSTING ===\n",
      "Meilleurs hyperparamètres : {'model__learning_rate': 0.1, 'model__max_depth': 3, 'model__n_estimators': 200, 'model__subsample': 1.0}\n",
      "Meilleur R² : 0.6579731094798151\n",
      "\n",
      "=== RÉSULTATS GRADIENTBOOSTING ===\n",
      "Meilleurs hyperparamètres : {'model__learning_rate': 0.1, 'model__max_depth': 3, 'model__n_estimators': 200, 'model__subsample': 1.0}\n",
      "Meilleur R² : 0.6579731094798151\n",
      "Baseline R² (notebook 4): 0.658\n",
      "Amélioration: +0.000 points R²\n",
      "Baseline R² (notebook 4): 0.658\n",
      "Amélioration: +0.000 points R²\n"
     ]
    }
   ],
   "source": [
    "# Pipeline GradientBoosting\n",
    "pipeline_gb = Pipeline([\n",
    "    (\"model\", GradientBoostingRegressor(random_state=42))\n",
    "])\n",
    "\n",
    "# Hyperparamètres optimaux pour GradientBoosting\n",
    "# Basé sur les meilleures pratiques et la performance attendue\n",
    "param_grid_gb = {\n",
    "    # Nombre d'estimateurs (arbres) - commence modéré pour éviter overfitting\n",
    "    \"model__n_estimators\": [100, 200, 300],\n",
    "    \n",
    "    # Profondeur des arbres - généralement plus faible que RandomForest\n",
    "    \"model__max_depth\": [3, 5, 7],\n",
    "    \n",
    "    # Taux d'apprentissage - très important pour GradientBoosting\n",
    "    \"model__learning_rate\": [0.05, 0.1, 0.15],\n",
    "    \n",
    "    # Fraction d'échantillons utilisés pour chaque arbre (subsample)\n",
    "    \"model__subsample\": [0.8, 0.9, 1.0],\n",
    "}\n",
    "\n",
    "print(\"Configuration de la grille de recherche pour GradientBoosting:\")\n",
    "print(f\"Nombre total de combinaisons: {len(param_grid_gb['model__n_estimators']) * len(param_grid_gb['model__max_depth']) * len(param_grid_gb['model__learning_rate']) * len(param_grid_gb['model__subsample'])}\")\n",
    "print(\"Paramètres testés:\")\n",
    "for param, values in param_grid_gb.items():\n",
    "    print(f\"  {param}: {values}\")\n",
    "\n",
    "grid_search_gb = GridSearchCV(\n",
    "    pipeline_gb, \n",
    "    param_grid_gb, \n",
    "    cv=cv_strategy, \n",
    "    scoring=\"r2\", \n",
    "    n_jobs=-1, \n",
    "    verbose=1\n",
    ")\n",
    "\n",
    "# Lancement de la recherche pour GradientBoosting\n",
    "print(\"\\n🚀 Lancement de l'optimisation GradientBoosting...\")\n",
    "grid_search_gb.fit(X, y)\n",
    "\n",
    "print(\"\\n=== RÉSULTATS GRADIENTBOOSTING ===\")\n",
    "print(\"Meilleurs hyperparamètres :\", grid_search_gb.best_params_)\n",
    "print(\"Meilleur R² :\", grid_search_gb.best_score_)\n",
    "\n",
    "# Comparaison avec le baseline de notebook 4\n",
    "baseline_gb = GradientBoostingRegressor(n_estimators=200, random_state=42, max_depth=3, learning_rate=0.1)\n",
    "baseline_cv_gb = cross_validate(\n",
    "    baseline_gb, X, y, cv=cv_strategy, scoring=\"r2\", return_train_score=True\n",
    ")\n",
    "print(f\"Baseline R² (notebook 4): {baseline_cv_gb['test_score'].mean():.3f}\")\n",
    "print(f\"Amélioration: +{grid_search_gb.best_score_ - baseline_cv_gb['test_score'].mean():.3f} points R²\")"
   ]
  },
  {
   "cell_type": "code",
   "execution_count": 9,
   "metadata": {},
   "outputs": [
    {
     "name": "stdout",
     "output_type": "stream",
     "text": [
      "\n",
      "=== TOP 10 FEATURES IMPORTANTES (GradientBoosting) ===\n",
      "                       feature  importance\n",
      "0            NumberofBuildings    0.390104\n",
      "2       PropertyGFABuilding(s)    0.354996\n",
      "19  NumberofFloors_quintile_Q5    0.110650\n",
      "3              ENERGYSTARScore    0.034688\n",
      "12       PrimaryPropertyType_4    0.025157\n",
      "9        PrimaryPropertyType_1    0.018961\n",
      "5                     SteamUse    0.016309\n",
      "20          EraBuilt_1951-1970    0.008182\n",
      "6                   NaturalGas    0.007386\n",
      "1           PropertyGFAParking    0.006964\n"
     ]
    },
    {
     "data": {
      "image/png": "[encoded data removed]",
      "text/plain": [
       "<Figure size 1200x600 with 1 Axes>"
      ]
     },
     "metadata": {},
     "output_type": "display_data"
    },
    {
     "name": "stdout",
     "output_type": "stream",
     "text": [
      "\n",
      "=== COMPARAISON FEATURE IMPORTANCE ===\n",
      "                       feature  RF_importance  GB_importance  difference\n",
      "4            NumberofBuildings       0.409852       0.390104    0.019747\n",
      "10      PropertyGFABuilding(s)       0.290015       0.354996   -0.064980\n",
      "0              ENERGYSTARScore       0.078771       0.034688    0.044083\n",
      "5   NumberofFloors_quintile_Q5       0.030999       0.110650   -0.079651\n",
      "7        PrimaryPropertyType_2       0.025534       0.000000    0.025534\n",
      "2                   NaturalGas       0.021729       0.007386    0.014344\n",
      "12                    SteamUse       0.018612       0.016309    0.002303\n",
      "6        PrimaryPropertyType_1       0.016672       0.018961   -0.002289\n",
      "3             NumberOfUseTypes       0.015608       0.000000    0.015608\n",
      "8        PrimaryPropertyType_3       0.015226       0.000000    0.015226\n",
      "1           EraBuilt_1951-1970       0.000000       0.008182   -0.008182\n",
      "9        PrimaryPropertyType_4       0.000000       0.025157   -0.025157\n",
      "11          PropertyGFAParking       0.000000       0.006964   -0.006964\n"
     ]
    }
   ],
   "source": [
    "# Feature importance pour GradientBoosting\n",
    "best_model_gb = grid_search_gb.best_estimator_.named_steps[\"model\"]\n",
    "importances_gb = best_model_gb.feature_importances_\n",
    "\n",
    "feat_imp_df_gb = pd.DataFrame(\n",
    "    {\"feature\": feature_names, \"importance\": importances_gb}\n",
    ").sort_values(by=\"importance\", ascending=False)\n",
    "\n",
    "print(\"\\n=== TOP 10 FEATURES IMPORTANTES (GradientBoosting) ===\")\n",
    "print(feat_imp_df_gb.head(10))\n",
    "\n",
    "# Affichage graphique des importances\n",
    "plt.figure(figsize=(12, 6))\n",
    "sns.barplot(x=\"importance\", y=\"feature\", data=feat_imp_df_gb.head(10))\n",
    "plt.title(\"Top 10 Features Importantes (GradientBoosting)\")\n",
    "plt.show()\n",
    "\n",
    "# Comparaison des feature importances entre RandomForest et GradientBoosting\n",
    "print(\"\\n=== COMPARAISON FEATURE IMPORTANCE ===\")\n",
    "comparison_df = pd.merge(\n",
    "    feat_imp_df.head(10)[['feature', 'importance']].rename(columns={'importance': 'RF_importance'}),\n",
    "    feat_imp_df_gb.head(10)[['feature', 'importance']].rename(columns={'importance': 'GB_importance'}),\n",
    "    on='feature', \n",
    "    how='outer'\n",
    ").fillna(0)\n",
    "\n",
    "comparison_df['difference'] = comparison_df['RF_importance'] - comparison_df['GB_importance']\n",
    "comparison_df = comparison_df.sort_values('RF_importance', ascending=False)\n",
    "print(comparison_df)"
   ]
  },
  {
   "cell_type": "markdown",
   "metadata": {},
   "source": [
    "### Comparaison finale des modèles optimisés"
   ]
  },
  {
   "cell_type": "code",
   "execution_count": 10,
   "metadata": {},
   "outputs": [
    {
     "name": "stdout",
     "output_type": "stream",
     "text": [
      "=== COMPARAISON FINALE DES MODÈLES OPTIMISÉS ===\n",
      "                     Modèle                                                   Configuration  R² Score  Amélioration\n",
      "    RandomForest (Baseline)             n_estimators=100, max_depth=20, min_samples_split=2    0.5525        0.0000\n",
      "    RandomForest (Optimisé)             n_estimators=100, max_depth=20, min_samples_split=2    0.5525        0.0000\n",
      "GradientBoosting (Baseline)                n_estimators=200, max_depth=3, learning_rate=0.1    0.6580        0.1055\n",
      "GradientBoosting (Optimisé) n_estimators=200, max_depth=3, learning_rate=0.1, subsample=1.0    0.6580        0.1055\n",
      "\n",
      "🏆 MEILLEUR MODÈLE: GradientBoosting (Baseline)\n",
      "📊 Score R²: 0.6580\n",
      "📋 Configuration optimale: {'model__learning_rate': 0.1, 'model__max_depth': 3, 'model__n_estimators': 200, 'model__subsample': 1.0}\n",
      "\n",
      "💡 Amélioration vs baseline RandomForest: +0.1055 points R²\n"
     ]
    }
   ],
   "source": [
    "# Tableau de comparaison final\n",
    "results_summary = pd.DataFrame({\n",
    "    'Modèle': ['RandomForest (Baseline)', 'RandomForest (Optimisé)', 'GradientBoosting (Baseline)', 'GradientBoosting (Optimisé)'],\n",
    "    'Configuration': [\n",
    "        'n_estimators=100, max_depth=20, min_samples_split=2',\n",
    "        f\"n_estimators={grid_search.best_params_['model__n_estimators']}, max_depth={grid_search.best_params_['model__max_depth']}, min_samples_split={grid_search.best_params_['model__min_samples_split']}\",\n",
    "        'n_estimators=200, max_depth=3, learning_rate=0.1',\n",
    "        f\"n_estimators={grid_search_gb.best_params_['model__n_estimators']}, max_depth={grid_search_gb.best_params_['model__max_depth']}, learning_rate={grid_search_gb.best_params_['model__learning_rate']}, subsample={grid_search_gb.best_params_['model__subsample']}\"\n",
    "    ],\n",
    "    'R² Score': [\n",
    "        baseline_cv['test_score'].mean(),\n",
    "        grid_search.best_score_,\n",
    "        baseline_cv_gb['test_score'].mean(),\n",
    "        grid_search_gb.best_score_\n",
    "    ],\n",
    "    'Amélioration': [\n",
    "        0,  # baseline\n",
    "        grid_search.best_score_ - baseline_cv['test_score'].mean(),\n",
    "        baseline_cv_gb['test_score'].mean() - baseline_cv['test_score'].mean(),  # vs RF baseline\n",
    "        grid_search_gb.best_score_ - baseline_cv['test_score'].mean()  # vs RF baseline\n",
    "    ]\n",
    "})\n",
    "\n",
    "results_summary['R² Score'] = results_summary['R² Score'].round(4)\n",
    "results_summary['Amélioration'] = results_summary['Amélioration'].round(4)\n",
    "\n",
    "print(\"=== COMPARAISON FINALE DES MODÈLES OPTIMISÉS ===\")\n",
    "print(results_summary.to_string(index=False))\n",
    "\n",
    "# Déterminer le meilleur modèle\n",
    "best_model_idx = results_summary['R² Score'].idxmax()\n",
    "best_model_name = results_summary.loc[best_model_idx, 'Modèle']\n",
    "best_score = results_summary.loc[best_model_idx, 'R² Score']\n",
    "\n",
    "print(f\"\\n🏆 MEILLEUR MODÈLE: {best_model_name}\")\n",
    "print(f\"📊 Score R²: {best_score:.4f}\")\n",
    "\n",
    "if 'RandomForest' in best_model_name:\n",
    "    print(f\"📋 Configuration optimale: {grid_search.best_params_}\")\n",
    "    final_model = grid_search.best_estimator_\n",
    "else:\n",
    "    print(f\"📋 Configuration optimale: {grid_search_gb.best_params_}\")\n",
    "    final_model = grid_search_gb.best_estimator_\n",
    "\n",
    "print(f\"\\n💡 Amélioration vs baseline RandomForest: +{best_score - baseline_cv['test_score'].mean():.4f} points R²\")"
   ]
  },
  {
   "cell_type": "markdown",
   "metadata": {},
   "source": [
    "### Prédiction sur de nouveaux bâtiments\n",
    "\n",
    "Maintenant que nous avons un modèle optimisé, voyons comment l'utiliser pour faire des prédictions sur des bâtiments inconnus."
   ]
  },
  {
   "cell_type": "code",
   "execution_count": 11,
   "metadata": {},
   "outputs": [
    {
     "name": "stdout",
     "output_type": "stream",
     "text": [
      "Features requises pour la prédiction:\n",
      "['NumberofBuildings', 'PropertyGFAParking', 'PropertyGFABuilding(s)', 'ENERGYSTARScore', 'NumberOfUseTypes', 'SteamUse', 'NaturalGas', 'Electricity', 'PrimaryPropertyType_0', 'PrimaryPropertyType_1', 'PrimaryPropertyType_2', 'PrimaryPropertyType_3', 'PrimaryPropertyType_4', 'BuildingType_Nonresidential COS', 'BuildingType_Nonresidential WA', 'BuildingType_SPS-District K-12', 'NumberofFloors_quintile_Q2', 'NumberofFloors_quintile_Q3', 'NumberofFloors_quintile_Q4', 'NumberofFloors_quintile_Q5', 'EraBuilt_1951-1970', 'EraBuilt_1971-1990', 'EraBuilt_1991-2010', 'EraBuilt_Post-2010', 'EraBuilt_≤1930']\n",
      "\n",
      "Nombre total de features: 25\n"
     ]
    }
   ],
   "source": [
    "def predict_building_energy(building_data, model=grid_search.best_estimator_):\n",
    "    \"\"\"\n",
    "    Prédit la consommation énergétique d'un ou plusieurs bâtiments\n",
    "    \n",
    "    Args:\n",
    "        building_data: DataFrame ou dict avec les caractéristiques du/des bâtiment(s)\n",
    "        model: Modèle entraîné (par défaut le meilleur modèle de GridSearch)\n",
    "    \n",
    "    Returns:\n",
    "        Prédiction(s) de consommation énergétique\n",
    "    \"\"\"\n",
    "    import pandas as pd\n",
    "    \n",
    "    # Convertir en DataFrame si c'est un dictionnaire\n",
    "    if isinstance(building_data, dict):\n",
    "        building_data = pd.DataFrame([building_data])\n",
    "    \n",
    "    # Vérifier que toutes les features nécessaires sont présentes\n",
    "    required_features = X.columns.tolist()\n",
    "    missing_features = set(required_features) - set(building_data.columns)\n",
    "    \n",
    "    if missing_features:\n",
    "        raise ValueError(f\"Features manquantes: {missing_features}\")\n",
    "    \n",
    "    # S'assurer que les colonnes sont dans le bon ordre\n",
    "    building_data = building_data[required_features]\n",
    "    \n",
    "    # Faire la prédiction\n",
    "    prediction = model.predict(building_data)\n",
    "    \n",
    "    return prediction\n",
    "\n",
    "# Afficher les features requises pour référence\n",
    "print(\"Features requises pour la prédiction:\")\n",
    "print(X.columns.tolist())\n",
    "print(f\"\\nNombre total de features: {len(X.columns)}\")"
   ]
  },
  {
   "cell_type": "markdown",
   "metadata": {},
   "source": [
    "#### Exemple 1: Prédiction pour un bâtiment de bureau typique"
   ]
  },
  {
   "cell_type": "code",
   "execution_count": 12,
   "metadata": {},
   "outputs": [
    {
     "name": "stdout",
     "output_type": "stream",
     "text": [
      "Prédiction de consommation énergétique pour le nouveau bâtiment: 3115.30 kBtu\n"
     ]
    }
   ],
   "source": [
    "# For a single building\n",
    "new_building = pd.DataFrame(\n",
    "    [\n",
    "        {\n",
    "            \"NumberofBuildings\": 1,\n",
    "            \"PropertyGFAParking\": 0,\n",
    "            \"PropertyGFABuilding(s)\": 56228,\n",
    "            \"ENERGYSTARScore\": 95,\n",
    "            \"NumberOfUseTypes\": 1,\n",
    "            \"SteamUse\": 0,\n",
    "            \"NaturalGas\": 1,\n",
    "            \"Electricity\": 1,\n",
    "            # Encodage PrimaryPropertyType (placeholders, dépend de ton encoder exact)\n",
    "            \"PrimaryPropertyType_0\": 0,\n",
    "            \"PrimaryPropertyType_1\": 0,\n",
    "            \"PrimaryPropertyType_2\": 0,\n",
    "            \"PrimaryPropertyType_3\": 0,\n",
    "            \"PrimaryPropertyType_4\": 0,\n",
    "            # Encodage BuildingType\n",
    "            \"BuildingType_Nonresidential COS\": 0,\n",
    "            \"BuildingType_Nonresidential WA\": 0,\n",
    "            \"BuildingType_SPS-District K-12\": 1,\n",
    "            # NumberofFloors quintiles\n",
    "            \"NumberofFloors_quintile_Q2\": 1,\n",
    "            \"NumberofFloors_quintile_Q3\": 0,\n",
    "            \"NumberofFloors_quintile_Q4\": 0,\n",
    "            \"NumberofFloors_quintile_Q5\": 0,\n",
    "            # EraBuilt\n",
    "            \"EraBuilt_1951-1970\": 1,\n",
    "            \"EraBuilt_1971-1990\": 0,\n",
    "            \"EraBuilt_1991-2010\": 0,\n",
    "            \"EraBuilt_Post-2010\": 0,\n",
    "            \"EraBuilt_≤1930\": 0,\n",
    "        }\n",
    "    ]\n",
    ")\n",
    "prediction = predict_building_energy(new_building)\n",
    "print(f\"Prédiction de consommation énergétique pour le nouveau bâtiment: {prediction[0]:.2f} kBtu\")"
   ]
  }
 ],
 "metadata": {
  "kernelspec": {
   "display_name": "OC_P3",
   "language": "python",
   "name": "python3"
  },
  "language_info": {
   "codemirror_mode": {
    "name": "ipython",
    "version": 3
   },
   "file_extension": ".py",
   "mimetype": "text/x-python",
   "name": "python",
   "nbconvert_exporter": "python",
   "pygments_lexer": "ipython3",
   "version": "3.12.2"
  }
 },
 "nbformat": 4,
 "nbformat_minor": 2
}
