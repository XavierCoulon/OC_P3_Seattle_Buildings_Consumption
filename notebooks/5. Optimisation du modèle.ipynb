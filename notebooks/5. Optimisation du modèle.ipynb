{
 "cells": [
  {
   "cell_type": "markdown",
   "metadata": {},
   "source": [
    "### Import des modules "
   ]
  },
  {
   "cell_type": "code",
   "execution_count": 48,
   "metadata": {},
   "outputs": [],
   "source": [
    "# Selection\n",
    "from sklearn.model_selection import (\n",
    "    GridSearchCV, \n",
    ")\n",
    "from sklearn.pipeline import Pipeline\n",
    "\n",
    "\n",
    "# Preprocess\n",
    "from sklearn.preprocessing import StandardScaler\n",
    "\n",
    "# Modèles\n",
    "from sklearn.ensemble import RandomForestRegressor, GradientBoostingRegressor\n",
    "\n",
    "import sys\n",
    "import importlib\n",
    "import numpy as np\n",
    "\n",
    "sys.path.append(\"..\")\n",
    "import config\n",
    "\n",
    "importlib.reload(config)  # Ensure we get the latest TARGET value\n",
    "from config import TARGET"
   ]
  },
  {
   "cell_type": "markdown",
   "metadata": {},
   "source": [
    "### Optimisation et interprétation du modèle"
   ]
  },
  {
   "cell_type": "markdown",
   "metadata": {},
   "source": [
    "A réaliser :\n",
    "* Reprennez le meilleur algorithme que vous avez sécurisé via l'étape précédente, et réalisez une GridSearch de petite taille sur au moins 3 hyperparamètres.\n",
    "* Si le meilleur modèle fait partie de la famille des modèles à arbres (RandomForest, GradientBoosting) alors utilisez la fonctionnalité feature importance pour identifier les features les plus impactantes sur la performance du modèle. Sinon, utilisez la méthode Permutation Importance de sklearn."
   ]
  },
  {
   "cell_type": "code",
   "execution_count": 49,
   "metadata": {},
   "outputs": [
    {
     "data": {
      "text/plain": [
       "Index(['NumberofBuildings', 'PropertyGFAParking', 'PropertyGFABuilding(s)',\n",
       "       'ENERGYSTARScore', 'TotalGHGEmissions', 'NumberOfUseTypes', 'SteamUse',\n",
       "       'NaturalGas', 'Electricity', 'PrimaryPropertyType_0',\n",
       "       'PrimaryPropertyType_1', 'PrimaryPropertyType_2',\n",
       "       'PrimaryPropertyType_3', 'PrimaryPropertyType_4',\n",
       "       'BuildingType_Nonresidential COS', 'BuildingType_Nonresidential WA',\n",
       "       'BuildingType_SPS-District K-12', 'NumberofFloors_quintile_Q2',\n",
       "       'NumberofFloors_quintile_Q3', 'NumberofFloors_quintile_Q4',\n",
       "       'NumberofFloors_quintile_Q5', 'EraBuilt_1951-1970',\n",
       "       'EraBuilt_1971-1990', 'EraBuilt_1991-2010', 'EraBuilt_Post-2010',\n",
       "       'EraBuilt_≤1930'],\n",
       "      dtype='object')"
      ]
     },
     "execution_count": 49,
     "metadata": {},
     "output_type": "execute_result"
    }
   ],
   "source": [
    "import pandas as pd\n",
    "\n",
    "building_consumption = pd.read_csv(\"../assets/building_consumption_cleaned.csv\")\n",
    "building_consumption.head()\n",
    "building_consumption.columns"
   ]
  },
  {
   "cell_type": "code",
   "execution_count": 50,
   "metadata": {},
   "outputs": [
    {
     "name": "stdout",
     "output_type": "stream",
     "text": [
      "Fitting 5 folds for each of 36 candidates, totalling 180 fits\n",
      "Meilleurs hyperparamètres : {'model__max_depth': 20, 'model__min_samples_split': 2, 'model__n_estimators': 100}\n",
      "Meilleur R² : 0.3416354691825433\n",
      "                       feature  importance\n",
      "0            NumberofBuildings    0.412141\n",
      "2       PropertyGFABuilding(s)    0.279959\n",
      "3              ENERGYSTARScore    0.077779\n",
      "19  NumberofFloors_quintile_Q5    0.038474\n",
      "10       PrimaryPropertyType_2    0.025625\n",
      "6                   NaturalGas    0.023498\n",
      "5                     SteamUse    0.018277\n",
      "11       PrimaryPropertyType_3    0.016532\n",
      "4             NumberOfUseTypes    0.015667\n",
      "9        PrimaryPropertyType_1    0.015127\n",
      "Meilleurs hyperparamètres : {'model__max_depth': 20, 'model__min_samples_split': 2, 'model__n_estimators': 100}\n",
      "Meilleur R² : 0.3416354691825433\n",
      "                       feature  importance\n",
      "0            NumberofBuildings    0.412141\n",
      "2       PropertyGFABuilding(s)    0.279959\n",
      "3              ENERGYSTARScore    0.077779\n",
      "19  NumberofFloors_quintile_Q5    0.038474\n",
      "10       PrimaryPropertyType_2    0.025625\n",
      "6                   NaturalGas    0.023498\n",
      "5                     SteamUse    0.018277\n",
      "11       PrimaryPropertyType_3    0.016532\n",
      "4             NumberOfUseTypes    0.015667\n",
      "9        PrimaryPropertyType_1    0.015127\n"
     ]
    }
   ],
   "source": [
    "# Préprocessor : toutes les features sont numériques et encodées\n",
    "preprocessor = StandardScaler()\n",
    "\n",
    "# Pipeline RandomForest\n",
    "pipeline_rf = Pipeline(\n",
    "    [(\"model\", RandomForestRegressor(random_state=42))]\n",
    ")\n",
    "\n",
    "# Hyperparamètres à tester\n",
    "param_grid = {\n",
    "    \"model__n_estimators\": [100, 300, 500],  # nombre d'arbres\n",
    "    \"model__max_depth\": [None, 5, 10, 20],  # profondeur max\n",
    "    \"model__min_samples_split\": [2, 5, 10],  # nb min d'échantillons pour splitter\n",
    "}\n",
    "\n",
    "grid_search = GridSearchCV(\n",
    "    pipeline_rf, param_grid, cv=5, scoring=\"r2\", n_jobs=-1, verbose=1\n",
    ")\n",
    "\n",
    "# On sépare X et y\n",
    "X = building_consumption.drop(columns=[TARGET])\n",
    "y = building_consumption[TARGET]\n",
    "\n",
    "# Lancement de la recherche\n",
    "grid_search.fit(X, y)\n",
    "\n",
    "print(\"Meilleurs hyperparamètres :\", grid_search.best_params_)\n",
    "print(\"Meilleur R² :\", grid_search.best_score_)\n",
    "\n",
    "# Feature importance\n",
    "best_model = grid_search.best_estimator_.named_steps[\"model\"]\n",
    "importances = best_model.feature_importances_\n",
    "feature_names = X.columns\n",
    "\n",
    "\n",
    "\n",
    "feat_imp_df = pd.DataFrame(\n",
    "    {\"feature\": feature_names, \"importance\": importances}\n",
    ").sort_values(by=\"importance\", ascending=False)\n",
    "\n",
    "print(feat_imp_df.head(10))  # top 10 features"
   ]
  },
  {
   "cell_type": "markdown",
   "metadata": {},
   "source": [
    "### Prédiction sur de nouveaux bâtiments\n",
    "\n",
    "Maintenant que nous avons un modèle optimisé, voyons comment l'utiliser pour faire des prédictions sur des bâtiments inconnus."
   ]
  },
  {
   "cell_type": "code",
   "execution_count": 51,
   "metadata": {},
   "outputs": [
    {
     "name": "stdout",
     "output_type": "stream",
     "text": [
      "Features requises pour la prédiction:\n",
      "['NumberofBuildings', 'PropertyGFAParking', 'PropertyGFABuilding(s)', 'ENERGYSTARScore', 'NumberOfUseTypes', 'SteamUse', 'NaturalGas', 'Electricity', 'PrimaryPropertyType_0', 'PrimaryPropertyType_1', 'PrimaryPropertyType_2', 'PrimaryPropertyType_3', 'PrimaryPropertyType_4', 'BuildingType_Nonresidential COS', 'BuildingType_Nonresidential WA', 'BuildingType_SPS-District K-12', 'NumberofFloors_quintile_Q2', 'NumberofFloors_quintile_Q3', 'NumberofFloors_quintile_Q4', 'NumberofFloors_quintile_Q5', 'EraBuilt_1951-1970', 'EraBuilt_1971-1990', 'EraBuilt_1991-2010', 'EraBuilt_Post-2010', 'EraBuilt_≤1930']\n",
      "\n",
      "Nombre total de features: 25\n"
     ]
    }
   ],
   "source": [
    "def predict_building_energy(building_data, model=grid_search.best_estimator_):\n",
    "    \"\"\"\n",
    "    Prédit la consommation énergétique d'un ou plusieurs bâtiments\n",
    "    \n",
    "    Args:\n",
    "        building_data: DataFrame ou dict avec les caractéristiques du/des bâtiment(s)\n",
    "        model: Modèle entraîné (par défaut le meilleur modèle de GridSearch)\n",
    "    \n",
    "    Returns:\n",
    "        Prédiction(s) de consommation énergétique\n",
    "    \"\"\"\n",
    "    import pandas as pd\n",
    "    \n",
    "    # Convertir en DataFrame si c'est un dictionnaire\n",
    "    if isinstance(building_data, dict):\n",
    "        building_data = pd.DataFrame([building_data])\n",
    "    \n",
    "    # Vérifier que toutes les features nécessaires sont présentes\n",
    "    required_features = X.columns.tolist()\n",
    "    missing_features = set(required_features) - set(building_data.columns)\n",
    "    \n",
    "    if missing_features:\n",
    "        raise ValueError(f\"Features manquantes: {missing_features}\")\n",
    "    \n",
    "    # S'assurer que les colonnes sont dans le bon ordre\n",
    "    building_data = building_data[required_features]\n",
    "    \n",
    "    # Faire la prédiction\n",
    "    prediction = model.predict(building_data)\n",
    "    \n",
    "    return prediction\n",
    "\n",
    "# Afficher les features requises pour référence\n",
    "print(\"Features requises pour la prédiction:\")\n",
    "print(X.columns.tolist())\n",
    "print(f\"\\nNombre total de features: {len(X.columns)}\")"
   ]
  },
  {
   "cell_type": "markdown",
   "metadata": {},
   "source": [
    "#### Exemple 1: Prédiction pour un bâtiment de bureau typique"
   ]
  },
  {
   "cell_type": "code",
   "execution_count": 52,
   "metadata": {},
   "outputs": [
    {
     "name": "stdout",
     "output_type": "stream",
     "text": [
      "Prédiction de consommation énergétique pour le nouveau bâtiment: 3133.07 kBtu\n"
     ]
    }
   ],
   "source": [
    "# For a single building\n",
    "new_building = pd.DataFrame(\n",
    "    [\n",
    "        {\n",
    "            \"NumberofBuildings\": 1,\n",
    "            \"PropertyGFAParking\": 0,\n",
    "            \"PropertyGFABuilding(s)\": 56228,\n",
    "            \"ENERGYSTARScore\": 95,\n",
    "            \"NumberOfUseTypes\": 1,\n",
    "            \"SteamUse\": 0,\n",
    "            \"NaturalGas\": 1,\n",
    "            \"Electricity\": 1,\n",
    "            # Encodage PrimaryPropertyType (placeholders, dépend de ton encoder exact)\n",
    "            \"PrimaryPropertyType_0\": 0,\n",
    "            \"PrimaryPropertyType_1\": 0,\n",
    "            \"PrimaryPropertyType_2\": 0,\n",
    "            \"PrimaryPropertyType_3\": 0,\n",
    "            \"PrimaryPropertyType_4\": 0,\n",
    "            # Encodage BuildingType\n",
    "            \"BuildingType_Nonresidential COS\": 0,\n",
    "            \"BuildingType_Nonresidential WA\": 0,\n",
    "            \"BuildingType_SPS-District K-12\": 1,\n",
    "            # NumberofFloors quintiles\n",
    "            \"NumberofFloors_quintile_Q2\": 1,\n",
    "            \"NumberofFloors_quintile_Q3\": 0,\n",
    "            \"NumberofFloors_quintile_Q4\": 0,\n",
    "            \"NumberofFloors_quintile_Q5\": 0,\n",
    "            # EraBuilt\n",
    "            \"EraBuilt_1951-1970\": 1,\n",
    "            \"EraBuilt_1971-1990\": 0,\n",
    "            \"EraBuilt_1991-2010\": 0,\n",
    "            \"EraBuilt_Post-2010\": 0,\n",
    "            \"EraBuilt_≤1930\": 0,\n",
    "        }\n",
    "    ]\n",
    ")\n",
    "prediction = predict_building_energy(new_building)\n",
    "print(f\"Prédiction de consommation énergétique pour le nouveau bâtiment: {prediction[0]:.2f} kBtu\")"
   ]
  },
  {
   "cell_type": "code",
   "execution_count": null,
   "metadata": {},
   "outputs": [],
   "source": []
  }
 ],
 "metadata": {
  "kernelspec": {
   "display_name": "OC_P3",
   "language": "python",
   "name": "python3"
  },
  "language_info": {
   "codemirror_mode": {
    "name": "ipython",
    "version": 3
   },
   "file_extension": ".py",
   "mimetype": "text/x-python",
   "name": "python",
   "nbconvert_exporter": "python",
   "pygments_lexer": "ipython3",
   "version": "3.12.2"
  }
 },
 "nbformat": 4,
 "nbformat_minor": 2
}
